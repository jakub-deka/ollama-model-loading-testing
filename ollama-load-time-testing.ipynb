{
 "cells": [
  {
   "cell_type": "markdown",
   "metadata": {},
   "source": [
    "\n",
    "I have 2 docker containers running ollama image. On all of the containers I have llama3 model running.\n",
    "Ollama1 is set up using following docker command.\n",
    "\n",
    "```\n",
    "docker run -d --gpus=all `\n",
    "    -v \"d:/exposed_to_docker/ollama:/root/.ollama\" `\n",
    "    -p 11667:11434 `\n",
    "    --name ollama1 ollama/ollama\n",
    "```\n",
    "\n",
    "Ollama3 is set up like this.\n",
    "\n",
    "```\n",
    "docker run -d --gpus=all `\n",
    "    -p 11669:11434 `\n",
    "    --name ollama3 ollama/ollama\n",
    "```\n",
    "\n",
    "This means that I have actually 3 different ollama servers running at any given point in time.\n",
    "`http://localhost:11434` # this is just ollama running under windows\n",
    "`http://localhost:11667` # Ollama1\n",
    "`http://localhost:11669` # Ollama3\n",
    "\n",
    "I am running this on Win11 i7 12700KF / 32GB DDR5 / RTX 3080 10G / Driver 551.61 / Cuda 12.4.\n",
    "\n",
    "I have set up a following test harness.\n"
   ]
  },
  {
   "cell_type": "code",
   "execution_count": 48,
   "metadata": {},
   "outputs": [],
   "source": [
    "# !pip install ollama"
   ]
  },
  {
   "cell_type": "code",
   "execution_count": 38,
   "metadata": {},
   "outputs": [],
   "source": [
    "import time\n",
    "from ollama import Client\n",
    "import requests\n",
    "\n",
    "# Configuration\n",
    "MODEL = 'llama3'\n",
    "PROMPT = 'Llamas are members of my family.'\n",
    "ENDPOINTS = ['http://localhost:11434', 'http://localhost:11667', 'http://localhost:11669']\n",
    "\n",
    "# Test function\n",
    "def time_embedding_call(endpoint):\n",
    "    client = Client(host=endpoint)\n",
    "    \n",
    "    start = time.time()\n",
    "    resp = client.embeddings(model=MODEL, prompt=PROMPT)\n",
    "    end = time.time()\n",
    "    \n",
    "    res = {'endpoint':endpoint, 'start':start, 'end':end, 'response':resp, 'duration': end - start}\n",
    "    return res"
   ]
  },
  {
   "cell_type": "code",
   "execution_count": 33,
   "metadata": {},
   "outputs": [],
   "source": [
    "# Make sure that there are no models loaded on either local ollama instance or docker container by running `ollama ps`\n",
    "RESULTS = []\n",
    "for e in ENDPOINTS:\n",
    "    RESULTS.append(time_embedding_call(e))"
   ]
  },
  {
   "cell_type": "code",
   "execution_count": 36,
   "metadata": {},
   "outputs": [
    {
     "name": "stdout",
     "output_type": "stream",
     "text": [
      "Host http://localhost:11434 took 8.80\n",
      "Host http://localhost:11667 took 189.67\n",
      "Host http://localhost:11669 took 73.31\n"
     ]
    }
   ],
   "source": [
    "for r in RESULTS:\n",
    "    print(f'Host {r[\"endpoint\"]} took {r[\"duration\"]:.2f}')"
   ]
  }
 ],
 "metadata": {
  "kernelspec": {
   "display_name": "base",
   "language": "python",
   "name": "python3"
  },
  "language_info": {
   "codemirror_mode": {
    "name": "ipython",
    "version": 3
   },
   "file_extension": ".py",
   "mimetype": "text/x-python",
   "name": "python",
   "nbconvert_exporter": "python",
   "pygments_lexer": "ipython3",
   "version": "3.11.7"
  }
 },
 "nbformat": 4,
 "nbformat_minor": 2
}
